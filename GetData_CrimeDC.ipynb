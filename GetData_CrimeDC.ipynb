{
  "nbformat": 4,
  "nbformat_minor": 0,
  "metadata": {
    "kernelspec": {
      "display_name": "Python 3",
      "language": "python",
      "name": "python3"
    },
    "language_info": {
      "codemirror_mode": {
        "name": "ipython",
        "version": 3
      },
      "file_extension": ".py",
      "mimetype": "text/x-python",
      "name": "python",
      "nbconvert_exporter": "python",
      "pygments_lexer": "ipython3",
      "version": "3.7.3"
    },
    "colab": {
      "name": "GetData_CrimeDC.ipynb",
      "provenance": [],
      "collapsed_sections": [],
      "include_colab_link": true
    }
  },
  "cells": [
    {
      "cell_type": "markdown",
      "metadata": {
        "id": "view-in-github",
        "colab_type": "text"
      },
      "source": [
        "<a href=\"https://colab.research.google.com/github/nich02/AccountFraud/blob/main/GetData_CrimeDC.ipynb\" target=\"_parent\"><img src=\"https://colab.research.google.com/assets/colab-badge.svg\" alt=\"Open In Colab\"/></a>"
      ]
    },
    {
      "cell_type": "markdown",
      "metadata": {
        "id": "iB1cyMZaoLMG"
      },
      "source": [
        "# From Web API in JSON Format to Pandas with Pyhon - A Working Example"
      ]
    },
    {
      "cell_type": "markdown",
      "metadata": {
        "id": "30_i3EvOuUC4"
      },
      "source": [
        "By: Justin Chae | @justinhchae | https://medium.com/@jhc154 | https://www.linkedin.com/in/justin-chae"
      ]
    },
    {
      "cell_type": "markdown",
      "metadata": {
        "id": "6-UkYDVtesTA"
      },
      "source": [
        "A working example of getting JSON data from an Open Data site with Python into a Pandas Dataframe."
      ]
    },
    {
      "cell_type": "markdown",
      "metadata": {
        "id": "9PA56D_no160"
      },
      "source": [
        "# **Step 0 - Import and Install Libraries**"
      ]
    },
    {
      "cell_type": "code",
      "metadata": {
        "id": "vWaIXmSlTTqr"
      },
      "source": [
        "# to handle  data retrieval \n",
        "import urllib3\n",
        "from urllib3 import request\n",
        "\n",
        "# to handle certificate verification\n",
        "import certifi\n",
        "\n",
        "# to manage json data\n",
        "import json\n",
        "\n",
        "# for pandas dataframes\n",
        "import pandas as pd\n",
        "\n",
        "# uncomment below if installation needed (not necessary in Colab)\n",
        "#!pip install certifi "
      ],
      "execution_count": null,
      "outputs": []
    },
    {
      "cell_type": "markdown",
      "metadata": {
        "id": "ZO9FAAdR5cwJ"
      },
      "source": [
        "# **Step 1 - Set Up Handler for Certificates and SSL Warnings**"
      ]
    },
    {
      "cell_type": "code",
      "metadata": {
        "id": "xWDlZNX-RurY"
      },
      "source": [
        "# handle certificate verification and SSL warnings: \n",
        "# reference https://urllib3.readthedocs.io/en/latest/user-guide.html#ssl\n",
        "http = urllib3.PoolManager(\n",
        "    cert_reqs='CERT_REQUIRED',\n",
        "    ca_certs=certifi.where())"
      ],
      "execution_count": null,
      "outputs": []
    },
    {
      "cell_type": "markdown",
      "metadata": {
        "id": "jqhzfuvRpJ1F"
      },
      "source": [
        "# **Step 2 - Get Data from Web API with Requests**"
      ]
    },
    {
      "cell_type": "code",
      "metadata": {
        "id": "wGkMg5j6Ruwg",
        "outputId": "9cb7bd2c-2fc4-4363-aefb-aea057889fe6",
        "colab": {
          "base_uri": "https://localhost:8080/",
          "height": 36
        }
      },
      "source": [
        "# get data from the API; replace url with target source\n",
        "url = 'https://maps2.dcgis.dc.gov/dcgis/rest/services/FEEDS/MPD/MapServer/2/query?where=1%3D1&outFields=*&outSR=4326&f=json'\n",
        "r = http.request('GET', url)\n",
        "r.status"
      ],
      "execution_count": null,
      "outputs": [
        {
          "output_type": "execute_result",
          "data": {
            "text/plain": [
              "200"
            ]
          },
          "metadata": {
            "tags": []
          },
          "execution_count": 4
        }
      ]
    },
    {
      "cell_type": "markdown",
      "metadata": {
        "id": "QnSEg68T8GKC"
      },
      "source": [
        "# **Step 3 - Decode JSON Data to a Dict**"
      ]
    },
    {
      "cell_type": "code",
      "metadata": {
        "id": "-9R0t_RzUbFb"
      },
      "source": [
        "# decode json data into a dict object\n",
        "data = json.loads(r.data.decode('utf-8'))\n",
        "\n",
        "# uncomment below to print all data in json format\n",
        "#data "
      ],
      "execution_count": null,
      "outputs": []
    },
    {
      "cell_type": "markdown",
      "metadata": {
        "id": "Q8Gjcy3Q8Mde"
      },
      "source": [
        "# **Step 4 - Normalize the data dict into a DataFrame**"
      ]
    },
    {
      "cell_type": "code",
      "metadata": {
        "id": "HTaXeBl9WLxV",
        "outputId": "9914ba12-8f46-47da-bd4f-dbcc7605e739",
        "colab": {
          "base_uri": "https://localhost:8080/",
          "height": 661
        }
      },
      "source": [
        "# normalize the data dict and read it into a dataframe\n",
        "# in this dataset, the data to extract is under 'features'\n",
        "df = pd.json_normalize(data, 'features')\n",
        "\n",
        "# print the first rows and header of the dataframe\n",
        "df.head(10)"
      ],
      "execution_count": null,
      "outputs": [
        {
          "output_type": "execute_result",
          "data": {
            "text/html": [
              "<div>\n",
              "<style scoped>\n",
              "    .dataframe tbody tr th:only-of-type {\n",
              "        vertical-align: middle;\n",
              "    }\n",
              "\n",
              "    .dataframe tbody tr th {\n",
              "        vertical-align: top;\n",
              "    }\n",
              "\n",
              "    .dataframe thead th {\n",
              "        text-align: right;\n",
              "    }\n",
              "</style>\n",
              "<table border=\"1\" class=\"dataframe\">\n",
              "  <thead>\n",
              "    <tr style=\"text-align: right;\">\n",
              "      <th></th>\n",
              "      <th>attributes.CCN</th>\n",
              "      <th>attributes.REPORT_DAT</th>\n",
              "      <th>attributes.SHIFT</th>\n",
              "      <th>attributes.METHOD</th>\n",
              "      <th>attributes.OFFENSE</th>\n",
              "      <th>attributes.BLOCK</th>\n",
              "      <th>attributes.XBLOCK</th>\n",
              "      <th>attributes.YBLOCK</th>\n",
              "      <th>attributes.WARD</th>\n",
              "      <th>attributes.ANC</th>\n",
              "      <th>attributes.DISTRICT</th>\n",
              "      <th>attributes.PSA</th>\n",
              "      <th>attributes.NEIGHBORHOOD_CLUSTER</th>\n",
              "      <th>attributes.BLOCK_GROUP</th>\n",
              "      <th>attributes.CENSUS_TRACT</th>\n",
              "      <th>attributes.VOTING_PRECINCT</th>\n",
              "      <th>attributes.LATITUDE</th>\n",
              "      <th>attributes.LONGITUDE</th>\n",
              "      <th>attributes.BID</th>\n",
              "      <th>attributes.START_DATE</th>\n",
              "      <th>attributes.END_DATE</th>\n",
              "      <th>attributes.OBJECTID</th>\n",
              "      <th>attributes.OCTO_RECORD_ID</th>\n",
              "      <th>geometry.x</th>\n",
              "      <th>geometry.y</th>\n",
              "    </tr>\n",
              "  </thead>\n",
              "  <tbody>\n",
              "    <tr>\n",
              "      <th>0</th>\n",
              "      <td>20068794</td>\n",
              "      <td>1588868931000</td>\n",
              "      <td>EVENING</td>\n",
              "      <td>OTHERS</td>\n",
              "      <td>ROBBERY</td>\n",
              "      <td>1300 - 1399 BLOCK OF 2ND STREET NE</td>\n",
              "      <td>399695.0</td>\n",
              "      <td>137774.0</td>\n",
              "      <td>6</td>\n",
              "      <td>6C</td>\n",
              "      <td>5</td>\n",
              "      <td>501</td>\n",
              "      <td>Cluster 25</td>\n",
              "      <td>010600 2</td>\n",
              "      <td>010600</td>\n",
              "      <td>Precinct 144</td>\n",
              "      <td>38.907825</td>\n",
              "      <td>-77.003516</td>\n",
              "      <td>NOMA</td>\n",
              "      <td>1.588860e+12</td>\n",
              "      <td>1.588860e+12</td>\n",
              "      <td>452904523</td>\n",
              "      <td>20068794-01</td>\n",
              "      <td>-77.003519</td>\n",
              "      <td>38.907833</td>\n",
              "    </tr>\n",
              "    <tr>\n",
              "      <th>1</th>\n",
              "      <td>20068811</td>\n",
              "      <td>1588869665000</td>\n",
              "      <td>EVENING</td>\n",
              "      <td>OTHERS</td>\n",
              "      <td>THEFT/OTHER</td>\n",
              "      <td>300 - 399 BLOCK OF WATER STREET SE</td>\n",
              "      <td>399887.0</td>\n",
              "      <td>133994.0</td>\n",
              "      <td>6</td>\n",
              "      <td>6D</td>\n",
              "      <td>1</td>\n",
              "      <td>106</td>\n",
              "      <td>Cluster 27</td>\n",
              "      <td>007200 2</td>\n",
              "      <td>007200</td>\n",
              "      <td>Precinct 131</td>\n",
              "      <td>38.873774</td>\n",
              "      <td>-77.001302</td>\n",
              "      <td>CAPITOL RIVERFRONT</td>\n",
              "      <td>1.588864e+12</td>\n",
              "      <td>1.588865e+12</td>\n",
              "      <td>452904524</td>\n",
              "      <td>20068811-01</td>\n",
              "      <td>-77.001304</td>\n",
              "      <td>38.873782</td>\n",
              "    </tr>\n",
              "    <tr>\n",
              "      <th>2</th>\n",
              "      <td>20068818</td>\n",
              "      <td>1588882492000</td>\n",
              "      <td>EVENING</td>\n",
              "      <td>GUN</td>\n",
              "      <td>ASSAULT W/DANGEROUS WEAPON</td>\n",
              "      <td>332 - 599 BLOCK OF 51ST STREET NE</td>\n",
              "      <td>406272.0</td>\n",
              "      <td>136442.0</td>\n",
              "      <td>7</td>\n",
              "      <td>7C</td>\n",
              "      <td>6</td>\n",
              "      <td>602</td>\n",
              "      <td>Cluster 31</td>\n",
              "      <td>007804 2</td>\n",
              "      <td>007804</td>\n",
              "      <td>Precinct 97</td>\n",
              "      <td>38.895804</td>\n",
              "      <td>-76.927699</td>\n",
              "      <td>None</td>\n",
              "      <td>1.588863e+12</td>\n",
              "      <td>1.588869e+12</td>\n",
              "      <td>452904525</td>\n",
              "      <td>20068818-01</td>\n",
              "      <td>-76.927702</td>\n",
              "      <td>38.895812</td>\n",
              "    </tr>\n",
              "    <tr>\n",
              "      <th>3</th>\n",
              "      <td>20068820</td>\n",
              "      <td>1588869357000</td>\n",
              "      <td>EVENING</td>\n",
              "      <td>OTHERS</td>\n",
              "      <td>THEFT/OTHER</td>\n",
              "      <td>1600 - 1699 BLOCK OF RHODE ISLAND AVENUE NE</td>\n",
              "      <td>401615.0</td>\n",
              "      <td>139853.0</td>\n",
              "      <td>5</td>\n",
              "      <td>5C</td>\n",
              "      <td>5</td>\n",
              "      <td>505</td>\n",
              "      <td>Cluster 22</td>\n",
              "      <td>009102 1</td>\n",
              "      <td>009102</td>\n",
              "      <td>Precinct 72</td>\n",
              "      <td>38.926552</td>\n",
              "      <td>-76.981375</td>\n",
              "      <td>None</td>\n",
              "      <td>1.588866e+12</td>\n",
              "      <td>1.588870e+12</td>\n",
              "      <td>452904526</td>\n",
              "      <td>20068820-01</td>\n",
              "      <td>-76.981377</td>\n",
              "      <td>38.926560</td>\n",
              "    </tr>\n",
              "    <tr>\n",
              "      <th>4</th>\n",
              "      <td>20068821</td>\n",
              "      <td>1588868832000</td>\n",
              "      <td>EVENING</td>\n",
              "      <td>OTHERS</td>\n",
              "      <td>THEFT F/AUTO</td>\n",
              "      <td>3821 - 3938 BLOCK OF PENNSYLVANIA AVENUE SE</td>\n",
              "      <td>404286.0</td>\n",
              "      <td>133055.0</td>\n",
              "      <td>7</td>\n",
              "      <td>7B</td>\n",
              "      <td>6</td>\n",
              "      <td>606</td>\n",
              "      <td>Cluster 35</td>\n",
              "      <td>007603 1</td>\n",
              "      <td>007603</td>\n",
              "      <td>Precinct 110</td>\n",
              "      <td>38.865305</td>\n",
              "      <td>-76.950614</td>\n",
              "      <td>None</td>\n",
              "      <td>1.588856e+12</td>\n",
              "      <td>1.588860e+12</td>\n",
              "      <td>452904527</td>\n",
              "      <td>20068821-01</td>\n",
              "      <td>-76.950616</td>\n",
              "      <td>38.865312</td>\n",
              "    </tr>\n",
              "    <tr>\n",
              "      <th>5</th>\n",
              "      <td>20068833</td>\n",
              "      <td>1588890815000</td>\n",
              "      <td>EVENING</td>\n",
              "      <td>OTHERS</td>\n",
              "      <td>THEFT/OTHER</td>\n",
              "      <td>600 - 699 BLOCK OF H STREET NE</td>\n",
              "      <td>400233.0</td>\n",
              "      <td>136927.0</td>\n",
              "      <td>6</td>\n",
              "      <td>6C</td>\n",
              "      <td>1</td>\n",
              "      <td>104</td>\n",
              "      <td>Cluster 25</td>\n",
              "      <td>008302 1</td>\n",
              "      <td>008302</td>\n",
              "      <td>Precinct 83</td>\n",
              "      <td>38.900195</td>\n",
              "      <td>-76.997314</td>\n",
              "      <td>None</td>\n",
              "      <td>1.588854e+12</td>\n",
              "      <td>1.588854e+12</td>\n",
              "      <td>452904528</td>\n",
              "      <td>20068833-01</td>\n",
              "      <td>-76.997316</td>\n",
              "      <td>38.900203</td>\n",
              "    </tr>\n",
              "    <tr>\n",
              "      <th>6</th>\n",
              "      <td>20068845</td>\n",
              "      <td>1588872817000</td>\n",
              "      <td>EVENING</td>\n",
              "      <td>OTHERS</td>\n",
              "      <td>ASSAULT W/DANGEROUS WEAPON</td>\n",
              "      <td>2700 - 2899 BLOCK OF MACOMB STREET NW</td>\n",
              "      <td>395118.0</td>\n",
              "      <td>140625.0</td>\n",
              "      <td>3</td>\n",
              "      <td>3C</td>\n",
              "      <td>2</td>\n",
              "      <td>203</td>\n",
              "      <td>Cluster 15</td>\n",
              "      <td>001302 2</td>\n",
              "      <td>001302</td>\n",
              "      <td>Precinct 34</td>\n",
              "      <td>38.933495</td>\n",
              "      <td>-77.056307</td>\n",
              "      <td>None</td>\n",
              "      <td>1.588865e+12</td>\n",
              "      <td>NaN</td>\n",
              "      <td>452904529</td>\n",
              "      <td>20068845-01</td>\n",
              "      <td>-77.056309</td>\n",
              "      <td>38.933503</td>\n",
              "    </tr>\n",
              "    <tr>\n",
              "      <th>7</th>\n",
              "      <td>20068847</td>\n",
              "      <td>1588913246000</td>\n",
              "      <td>MIDNIGHT</td>\n",
              "      <td>OTHERS</td>\n",
              "      <td>THEFT/OTHER</td>\n",
              "      <td>900 - 999 BLOCK OF RHODE ISLAND AVENUE NE</td>\n",
              "      <td>400594.0</td>\n",
              "      <td>139371.0</td>\n",
              "      <td>5</td>\n",
              "      <td>5C</td>\n",
              "      <td>5</td>\n",
              "      <td>505</td>\n",
              "      <td>Cluster 22</td>\n",
              "      <td>009102 2</td>\n",
              "      <td>009102</td>\n",
              "      <td>Precinct 72</td>\n",
              "      <td>38.922212</td>\n",
              "      <td>-76.993150</td>\n",
              "      <td>None</td>\n",
              "      <td>1.588871e+12</td>\n",
              "      <td>1.588874e+12</td>\n",
              "      <td>452904530</td>\n",
              "      <td>20068847-01</td>\n",
              "      <td>-76.993152</td>\n",
              "      <td>38.922219</td>\n",
              "    </tr>\n",
              "    <tr>\n",
              "      <th>8</th>\n",
              "      <td>20068850</td>\n",
              "      <td>1588887822000</td>\n",
              "      <td>EVENING</td>\n",
              "      <td>OTHERS</td>\n",
              "      <td>THEFT/OTHER</td>\n",
              "      <td>934 - 1099 BLOCK OF EASTERN AVENUE NE</td>\n",
              "      <td>406683.0</td>\n",
              "      <td>137294.0</td>\n",
              "      <td>7</td>\n",
              "      <td>7C</td>\n",
              "      <td>6</td>\n",
              "      <td>608</td>\n",
              "      <td>Cluster 31</td>\n",
              "      <td>007807 2</td>\n",
              "      <td>007807</td>\n",
              "      <td>Precinct 95</td>\n",
              "      <td>38.903476</td>\n",
              "      <td>-76.922953</td>\n",
              "      <td>None</td>\n",
              "      <td>1.588870e+12</td>\n",
              "      <td>1.588872e+12</td>\n",
              "      <td>452904531</td>\n",
              "      <td>20068850-01</td>\n",
              "      <td>-76.922956</td>\n",
              "      <td>38.903484</td>\n",
              "    </tr>\n",
              "    <tr>\n",
              "      <th>9</th>\n",
              "      <td>20068858</td>\n",
              "      <td>1588872841000</td>\n",
              "      <td>EVENING</td>\n",
              "      <td>OTHERS</td>\n",
              "      <td>THEFT/OTHER</td>\n",
              "      <td>1202 - 1299 BLOCK OF 36TH STREET NW</td>\n",
              "      <td>393904.0</td>\n",
              "      <td>137605.0</td>\n",
              "      <td>2</td>\n",
              "      <td>2E</td>\n",
              "      <td>2</td>\n",
              "      <td>206</td>\n",
              "      <td>Cluster 4</td>\n",
              "      <td>000202 4</td>\n",
              "      <td>000202</td>\n",
              "      <td>Precinct 6</td>\n",
              "      <td>38.906282</td>\n",
              "      <td>-77.070282</td>\n",
              "      <td>None</td>\n",
              "      <td>1.587132e+12</td>\n",
              "      <td>1.588676e+12</td>\n",
              "      <td>452904532</td>\n",
              "      <td>20068858-01</td>\n",
              "      <td>-77.070284</td>\n",
              "      <td>38.906290</td>\n",
              "    </tr>\n",
              "  </tbody>\n",
              "</table>\n",
              "</div>"
            ],
            "text/plain": [
              "  attributes.CCN  attributes.REPORT_DAT  ... geometry.x geometry.y\n",
              "0       20068794          1588868931000  ... -77.003519  38.907833\n",
              "1       20068811          1588869665000  ... -77.001304  38.873782\n",
              "2       20068818          1588882492000  ... -76.927702  38.895812\n",
              "3       20068820          1588869357000  ... -76.981377  38.926560\n",
              "4       20068821          1588868832000  ... -76.950616  38.865312\n",
              "5       20068833          1588890815000  ... -76.997316  38.900203\n",
              "6       20068845          1588872817000  ... -77.056309  38.933503\n",
              "7       20068847          1588913246000  ... -76.993152  38.922219\n",
              "8       20068850          1588887822000  ... -76.922956  38.903484\n",
              "9       20068858          1588872841000  ... -77.070284  38.906290\n",
              "\n",
              "[10 rows x 25 columns]"
            ]
          },
          "metadata": {
            "tags": []
          },
          "execution_count": 6
        }
      ]
    }
  ]
}